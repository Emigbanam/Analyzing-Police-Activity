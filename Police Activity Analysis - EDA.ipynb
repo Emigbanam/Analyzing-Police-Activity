{
 "cells": [
  {
   "metadata": {},
   "cell_type": "markdown",
   "source": [
    "# Analyzing Police Activity with Pandas\n",
    "\n",
    "This project applies the foundations of **pandas** to answer real-world questions using the **Stanford Open Policing Project dataset**. The focus is on analyzing the impact of gender on police behavior while practicing essential data analysis skills.\n",
    "\n",
    "Through this project, you will:\n",
    "\n",
    "- Explore and clean messy datasets\n",
    "- Fix data types and handle missing values\n",
    "- Drop unnecessary columns and rows\n",
    "- Create meaningful visualizations\n",
    "- Combine and reshape datasets\n",
    "- Work with time series data\n",
    "\n",
    "The goal is to complete a full analysis workflow—from raw data to insights—building practical experience for a data science career.\n",
    "\n",
    "---\n"
   ],
   "id": "a86d1d6619875187"
  },
  {
   "metadata": {},
   "cell_type": "markdown",
   "source": [
    "## Chapter 1: Preparing the Data for Analysis\n",
    "\n",
    "Before starting the analysis, it’s important to prepare the dataset.\n",
    "In this step, the work involves:\n",
    "\n",
    "- Examining the raw data\n",
    "- Fixing data types for consistency\n",
    "- Handling missing values\n",
    "- Dropping irrelevant columns and rows\n",
    "\n",
    "This ensures the dataset is ready for efficient exploration and accurate analysis."
   ],
   "id": "74dbda4fa380168d"
  },
  {
   "metadata": {
    "collapsed": true,
    "ExecuteTime": {
     "end_time": "2025-09-24T21:21:31.941597Z",
     "start_time": "2025-09-24T21:21:31.934996Z"
    }
   },
   "cell_type": "code",
   "source": [
    "import pandas as pd\n",
    "import numpy as np\n",
    "import warnings\n",
    "warnings.filterwarnings('ignore')"
   ],
   "id": "initial_id",
   "outputs": [],
   "execution_count": 41
  },
  {
   "metadata": {
    "ExecuteTime": {
     "end_time": "2025-09-24T21:21:32.222075Z",
     "start_time": "2025-09-24T21:21:32.035643Z"
    }
   },
   "cell_type": "code",
   "source": [
    "police = pd.read_csv(r\"C:\\Users\\Emigb\\Documents\\Data Science\\datasets\\police.csv\")\n",
    "police.head()"
   ],
   "id": "54b976997d2c324b",
   "outputs": [
    {
     "data": {
      "text/plain": [
       "  state   stop_date stop_time  county_name driver_gender driver_race  \\\n",
       "0    RI  2005-01-04     12:55          NaN             M       White   \n",
       "1    RI  2005-01-23     23:15          NaN             M       White   \n",
       "2    RI  2005-02-17     04:15          NaN             M       White   \n",
       "3    RI  2005-02-20     17:15          NaN             M       White   \n",
       "4    RI  2005-02-24     01:20          NaN             F       White   \n",
       "\n",
       "                    violation_raw  violation  search_conducted search_type  \\\n",
       "0  Equipment/Inspection Violation  Equipment             False         NaN   \n",
       "1                        Speeding   Speeding             False         NaN   \n",
       "2                        Speeding   Speeding             False         NaN   \n",
       "3                Call for Service      Other             False         NaN   \n",
       "4                        Speeding   Speeding             False         NaN   \n",
       "\n",
       "    stop_outcome is_arrested stop_duration  drugs_related_stop district  \n",
       "0       Citation       False      0-15 Min               False  Zone X4  \n",
       "1       Citation       False      0-15 Min               False  Zone K3  \n",
       "2       Citation       False      0-15 Min               False  Zone X4  \n",
       "3  Arrest Driver        True     16-30 Min               False  Zone X1  \n",
       "4       Citation       False      0-15 Min               False  Zone X3  "
      ],
      "text/html": [
       "<div>\n",
       "<style scoped>\n",
       "    .dataframe tbody tr th:only-of-type {\n",
       "        vertical-align: middle;\n",
       "    }\n",
       "\n",
       "    .dataframe tbody tr th {\n",
       "        vertical-align: top;\n",
       "    }\n",
       "\n",
       "    .dataframe thead th {\n",
       "        text-align: right;\n",
       "    }\n",
       "</style>\n",
       "<table border=\"1\" class=\"dataframe\">\n",
       "  <thead>\n",
       "    <tr style=\"text-align: right;\">\n",
       "      <th></th>\n",
       "      <th>state</th>\n",
       "      <th>stop_date</th>\n",
       "      <th>stop_time</th>\n",
       "      <th>county_name</th>\n",
       "      <th>driver_gender</th>\n",
       "      <th>driver_race</th>\n",
       "      <th>violation_raw</th>\n",
       "      <th>violation</th>\n",
       "      <th>search_conducted</th>\n",
       "      <th>search_type</th>\n",
       "      <th>stop_outcome</th>\n",
       "      <th>is_arrested</th>\n",
       "      <th>stop_duration</th>\n",
       "      <th>drugs_related_stop</th>\n",
       "      <th>district</th>\n",
       "    </tr>\n",
       "  </thead>\n",
       "  <tbody>\n",
       "    <tr>\n",
       "      <th>0</th>\n",
       "      <td>RI</td>\n",
       "      <td>2005-01-04</td>\n",
       "      <td>12:55</td>\n",
       "      <td>NaN</td>\n",
       "      <td>M</td>\n",
       "      <td>White</td>\n",
       "      <td>Equipment/Inspection Violation</td>\n",
       "      <td>Equipment</td>\n",
       "      <td>False</td>\n",
       "      <td>NaN</td>\n",
       "      <td>Citation</td>\n",
       "      <td>False</td>\n",
       "      <td>0-15 Min</td>\n",
       "      <td>False</td>\n",
       "      <td>Zone X4</td>\n",
       "    </tr>\n",
       "    <tr>\n",
       "      <th>1</th>\n",
       "      <td>RI</td>\n",
       "      <td>2005-01-23</td>\n",
       "      <td>23:15</td>\n",
       "      <td>NaN</td>\n",
       "      <td>M</td>\n",
       "      <td>White</td>\n",
       "      <td>Speeding</td>\n",
       "      <td>Speeding</td>\n",
       "      <td>False</td>\n",
       "      <td>NaN</td>\n",
       "      <td>Citation</td>\n",
       "      <td>False</td>\n",
       "      <td>0-15 Min</td>\n",
       "      <td>False</td>\n",
       "      <td>Zone K3</td>\n",
       "    </tr>\n",
       "    <tr>\n",
       "      <th>2</th>\n",
       "      <td>RI</td>\n",
       "      <td>2005-02-17</td>\n",
       "      <td>04:15</td>\n",
       "      <td>NaN</td>\n",
       "      <td>M</td>\n",
       "      <td>White</td>\n",
       "      <td>Speeding</td>\n",
       "      <td>Speeding</td>\n",
       "      <td>False</td>\n",
       "      <td>NaN</td>\n",
       "      <td>Citation</td>\n",
       "      <td>False</td>\n",
       "      <td>0-15 Min</td>\n",
       "      <td>False</td>\n",
       "      <td>Zone X4</td>\n",
       "    </tr>\n",
       "    <tr>\n",
       "      <th>3</th>\n",
       "      <td>RI</td>\n",
       "      <td>2005-02-20</td>\n",
       "      <td>17:15</td>\n",
       "      <td>NaN</td>\n",
       "      <td>M</td>\n",
       "      <td>White</td>\n",
       "      <td>Call for Service</td>\n",
       "      <td>Other</td>\n",
       "      <td>False</td>\n",
       "      <td>NaN</td>\n",
       "      <td>Arrest Driver</td>\n",
       "      <td>True</td>\n",
       "      <td>16-30 Min</td>\n",
       "      <td>False</td>\n",
       "      <td>Zone X1</td>\n",
       "    </tr>\n",
       "    <tr>\n",
       "      <th>4</th>\n",
       "      <td>RI</td>\n",
       "      <td>2005-02-24</td>\n",
       "      <td>01:20</td>\n",
       "      <td>NaN</td>\n",
       "      <td>F</td>\n",
       "      <td>White</td>\n",
       "      <td>Speeding</td>\n",
       "      <td>Speeding</td>\n",
       "      <td>False</td>\n",
       "      <td>NaN</td>\n",
       "      <td>Citation</td>\n",
       "      <td>False</td>\n",
       "      <td>0-15 Min</td>\n",
       "      <td>False</td>\n",
       "      <td>Zone X3</td>\n",
       "    </tr>\n",
       "  </tbody>\n",
       "</table>\n",
       "</div>"
      ]
     },
     "execution_count": 42,
     "metadata": {},
     "output_type": "execute_result"
    }
   ],
   "execution_count": 42
  },
  {
   "metadata": {},
   "cell_type": "markdown",
   "source": [
    "## Exploring the Dataset\n",
    "\n",
    "The analysis will focus on a dataset of traffic stops in **Rhode Island**, collected by the **Stanford Open Policing Project**.\n",
    "\n",
    "Before diving into deeper analysis, the first step is to get familiar with the dataset. This involves:\n",
    "\n",
    "- **Loading the dataset** into pandas for use\n",
    "- **Viewing the first few rows** to understand its structure and contents\n",
    "- **Counting missing values** to identify data quality issues that need attention\n",
    "\n",
    "This initial exploration ensures a clear understanding of what the dataset contains and highlights areas that require cleaning before further analysis.\n"
   ],
   "id": "68d23dadd2766900"
  },
  {
   "metadata": {
    "ExecuteTime": {
     "end_time": "2025-09-24T21:21:32.326308Z",
     "start_time": "2025-09-24T21:21:32.270030Z"
    }
   },
   "cell_type": "code",
   "source": "police.isnull().sum()",
   "id": "36b528fd904c8e49",
   "outputs": [
    {
     "data": {
      "text/plain": [
       "state                     0\n",
       "stop_date                 0\n",
       "stop_time                 0\n",
       "county_name           91741\n",
       "driver_gender          5205\n",
       "driver_race            5202\n",
       "violation_raw          5202\n",
       "violation              5202\n",
       "search_conducted          0\n",
       "search_type           88434\n",
       "stop_outcome           5202\n",
       "is_arrested            5202\n",
       "stop_duration          5202\n",
       "drugs_related_stop        0\n",
       "district                  0\n",
       "dtype: int64"
      ]
     },
     "execution_count": 43,
     "metadata": {},
     "output_type": "execute_result"
    }
   ],
   "execution_count": 43
  },
  {
   "metadata": {
    "ExecuteTime": {
     "end_time": "2025-09-24T21:21:32.341317Z",
     "start_time": "2025-09-24T21:21:32.335006Z"
    }
   },
   "cell_type": "code",
   "source": [
    "print(police.shape)\n",
    "print(police.columns)"
   ],
   "id": "20988176afc90b72",
   "outputs": [
    {
     "name": "stdout",
     "output_type": "stream",
     "text": [
      "(91741, 15)\n",
      "Index(['state', 'stop_date', 'stop_time', 'county_name', 'driver_gender',\n",
      "       'driver_race', 'violation_raw', 'violation', 'search_conducted',\n",
      "       'search_type', 'stop_outcome', 'is_arrested', 'stop_duration',\n",
      "       'drugs_related_stop', 'district'],\n",
      "      dtype='object')\n"
     ]
    }
   ],
   "execution_count": 44
  },
  {
   "metadata": {
    "ExecuteTime": {
     "end_time": "2025-09-24T21:21:32.382201Z",
     "start_time": "2025-09-24T21:21:32.367998Z"
    }
   },
   "cell_type": "code",
   "source": "police.state.value_counts()",
   "id": "2382abf118198d2c",
   "outputs": [
    {
     "data": {
      "text/plain": [
       "state\n",
       "RI    91741\n",
       "Name: count, dtype: int64"
      ]
     },
     "execution_count": 45,
     "metadata": {},
     "output_type": "execute_result"
    }
   ],
   "execution_count": 45
  },
  {
   "metadata": {},
   "cell_type": "markdown",
   "source": [
    "## Dropping Unnecessary Columns\n",
    "\n",
    "Not every column in a dataset is useful for analysis. Keeping irrelevant or empty columns can add clutter and make it harder to focus on the meaningful data.\n",
    "\n",
    "In this step:\n",
    "\n",
    "- The **`county_name`** column will be dropped because it contains only missing values.\n",
    "- The **`state`** column will also be dropped since all traffic stops occurred in the same state (**Rhode Island**), making the column redundant.\n",
    "\n",
    "Removing these columns will simplify the dataset and keep the focus on information that adds value to the analysis.\n"
   ],
   "id": "ad2f6ba2bb552deb"
  },
  {
   "metadata": {
    "ExecuteTime": {
     "end_time": "2025-09-24T21:21:32.441199Z",
     "start_time": "2025-09-24T21:21:32.421408Z"
    }
   },
   "cell_type": "code",
   "source": [
    "police.drop(['state','county_name'], axis='columns', inplace=True)\n",
    "police.shape"
   ],
   "id": "6b1c5a3c43a73b00",
   "outputs": [
    {
     "data": {
      "text/plain": [
       "(91741, 13)"
      ]
     },
     "execution_count": 46,
     "metadata": {},
     "output_type": "execute_result"
    }
   ],
   "execution_count": 46
  },
  {
   "metadata": {
    "ExecuteTime": {
     "end_time": "2025-09-24T21:21:32.496396Z",
     "start_time": "2025-09-24T21:21:32.451684Z"
    }
   },
   "cell_type": "code",
   "source": "police.isnull().sum()",
   "id": "f8c814390f90f3e5",
   "outputs": [
    {
     "data": {
      "text/plain": [
       "stop_date                 0\n",
       "stop_time                 0\n",
       "driver_gender          5205\n",
       "driver_race            5202\n",
       "violation_raw          5202\n",
       "violation              5202\n",
       "search_conducted          0\n",
       "search_type           88434\n",
       "stop_outcome           5202\n",
       "is_arrested            5202\n",
       "stop_duration          5202\n",
       "drugs_related_stop        0\n",
       "district                  0\n",
       "dtype: int64"
      ]
     },
     "execution_count": 47,
     "metadata": {},
     "output_type": "execute_result"
    }
   ],
   "execution_count": 47
  },
  {
   "metadata": {},
   "cell_type": "markdown",
   "source": [
    "## Dropping Rows\n",
    "\n",
    "\n"
   ],
   "id": "21b134eb65d9751b"
  },
  {
   "metadata": {
    "ExecuteTime": {
     "end_time": "2025-09-24T21:21:32.554353Z",
     "start_time": "2025-09-24T21:21:32.506033Z"
    }
   },
   "cell_type": "code",
   "source": [
    "print(police.isnull().sum())\n",
    "print(police.shape)"
   ],
   "id": "1b34afef1434a973",
   "outputs": [
    {
     "name": "stdout",
     "output_type": "stream",
     "text": [
      "stop_date                 0\n",
      "stop_time                 0\n",
      "driver_gender          5205\n",
      "driver_race            5202\n",
      "violation_raw          5202\n",
      "violation              5202\n",
      "search_conducted          0\n",
      "search_type           88434\n",
      "stop_outcome           5202\n",
      "is_arrested            5202\n",
      "stop_duration          5202\n",
      "drugs_related_stop        0\n",
      "district                  0\n",
      "dtype: int64\n",
      "(91741, 13)\n"
     ]
    }
   ],
   "execution_count": 48
  },
  {
   "metadata": {},
   "cell_type": "markdown",
   "source": [
    "Sometimes, a dataset may have missing values in columns that are **critical for analysis**. If the number of missing rows is small, it is often better to remove them rather than risk skewing the results.\n",
    "\n",
    "In this step:\n",
    "\n",
    "- The **`driver_gender`** column is identified as essential for the analysis.\n",
    "- Only a small fraction of rows are missing values in this column.\n",
    "- Those rows will be **dropped** to ensure the dataset remains reliable and ready for gender-based analysis.\n",
    "\n",
    "This step helps maintain accuracy while keeping as much useful data as possible."
   ],
   "id": "2e0917f3bd45aa00"
  },
  {
   "metadata": {
    "ExecuteTime": {
     "end_time": "2025-09-24T21:21:32.634544Z",
     "start_time": "2025-09-24T21:21:32.576090Z"
    }
   },
   "cell_type": "code",
   "source": [
    "police.dropna(subset=['driver_gender'], inplace=True)\n",
    "print(police.isnull().sum())\n",
    "print(police.shape)"
   ],
   "id": "318b92c23e4f47c6",
   "outputs": [
    {
     "name": "stdout",
     "output_type": "stream",
     "text": [
      "stop_date                 0\n",
      "stop_time                 0\n",
      "driver_gender             0\n",
      "driver_race               0\n",
      "violation_raw             0\n",
      "violation                 0\n",
      "search_conducted          0\n",
      "search_type           83229\n",
      "stop_outcome              0\n",
      "is_arrested               0\n",
      "stop_duration             0\n",
      "drugs_related_stop        0\n",
      "district                  0\n",
      "dtype: int64\n",
      "(86536, 13)\n"
     ]
    }
   ],
   "execution_count": 49
  },
  {
   "metadata": {},
   "cell_type": "markdown",
   "source": "## Fixing a Data Type\n",
   "id": "2e75c5cf58f9f05d"
  },
  {
   "metadata": {
    "ExecuteTime": {
     "end_time": "2025-09-24T21:21:32.685637Z",
     "start_time": "2025-09-24T21:21:32.643841Z"
    }
   },
   "cell_type": "code",
   "source": "police.info()",
   "id": "42ebb66b9a24cbdf",
   "outputs": [
    {
     "name": "stdout",
     "output_type": "stream",
     "text": [
      "<class 'pandas.core.frame.DataFrame'>\n",
      "Index: 86536 entries, 0 to 91740\n",
      "Data columns (total 13 columns):\n",
      " #   Column              Non-Null Count  Dtype \n",
      "---  ------              --------------  ----- \n",
      " 0   stop_date           86536 non-null  object\n",
      " 1   stop_time           86536 non-null  object\n",
      " 2   driver_gender       86536 non-null  object\n",
      " 3   driver_race         86536 non-null  object\n",
      " 4   violation_raw       86536 non-null  object\n",
      " 5   violation           86536 non-null  object\n",
      " 6   search_conducted    86536 non-null  bool  \n",
      " 7   search_type         3307 non-null   object\n",
      " 8   stop_outcome        86536 non-null  object\n",
      " 9   is_arrested         86536 non-null  object\n",
      " 10  stop_duration       86536 non-null  object\n",
      " 11  drugs_related_stop  86536 non-null  bool  \n",
      " 12  district            86536 non-null  object\n",
      "dtypes: bool(2), object(11)\n",
      "memory usage: 8.1+ MB\n"
     ]
    }
   ],
   "execution_count": 50
  },
  {
   "metadata": {
    "ExecuteTime": {
     "end_time": "2025-09-24T21:21:32.736645Z",
     "start_time": "2025-09-24T21:21:32.708645Z"
    }
   },
   "cell_type": "code",
   "source": "police.head()",
   "id": "168eab6b6dfdcce8",
   "outputs": [
    {
     "data": {
      "text/plain": [
       "    stop_date stop_time driver_gender driver_race  \\\n",
       "0  2005-01-04     12:55             M       White   \n",
       "1  2005-01-23     23:15             M       White   \n",
       "2  2005-02-17     04:15             M       White   \n",
       "3  2005-02-20     17:15             M       White   \n",
       "4  2005-02-24     01:20             F       White   \n",
       "\n",
       "                    violation_raw  violation  search_conducted search_type  \\\n",
       "0  Equipment/Inspection Violation  Equipment             False         NaN   \n",
       "1                        Speeding   Speeding             False         NaN   \n",
       "2                        Speeding   Speeding             False         NaN   \n",
       "3                Call for Service      Other             False         NaN   \n",
       "4                        Speeding   Speeding             False         NaN   \n",
       "\n",
       "    stop_outcome is_arrested stop_duration  drugs_related_stop district  \n",
       "0       Citation       False      0-15 Min               False  Zone X4  \n",
       "1       Citation       False      0-15 Min               False  Zone K3  \n",
       "2       Citation       False      0-15 Min               False  Zone X4  \n",
       "3  Arrest Driver        True     16-30 Min               False  Zone X1  \n",
       "4       Citation       False      0-15 Min               False  Zone X3  "
      ],
      "text/html": [
       "<div>\n",
       "<style scoped>\n",
       "    .dataframe tbody tr th:only-of-type {\n",
       "        vertical-align: middle;\n",
       "    }\n",
       "\n",
       "    .dataframe tbody tr th {\n",
       "        vertical-align: top;\n",
       "    }\n",
       "\n",
       "    .dataframe thead th {\n",
       "        text-align: right;\n",
       "    }\n",
       "</style>\n",
       "<table border=\"1\" class=\"dataframe\">\n",
       "  <thead>\n",
       "    <tr style=\"text-align: right;\">\n",
       "      <th></th>\n",
       "      <th>stop_date</th>\n",
       "      <th>stop_time</th>\n",
       "      <th>driver_gender</th>\n",
       "      <th>driver_race</th>\n",
       "      <th>violation_raw</th>\n",
       "      <th>violation</th>\n",
       "      <th>search_conducted</th>\n",
       "      <th>search_type</th>\n",
       "      <th>stop_outcome</th>\n",
       "      <th>is_arrested</th>\n",
       "      <th>stop_duration</th>\n",
       "      <th>drugs_related_stop</th>\n",
       "      <th>district</th>\n",
       "    </tr>\n",
       "  </thead>\n",
       "  <tbody>\n",
       "    <tr>\n",
       "      <th>0</th>\n",
       "      <td>2005-01-04</td>\n",
       "      <td>12:55</td>\n",
       "      <td>M</td>\n",
       "      <td>White</td>\n",
       "      <td>Equipment/Inspection Violation</td>\n",
       "      <td>Equipment</td>\n",
       "      <td>False</td>\n",
       "      <td>NaN</td>\n",
       "      <td>Citation</td>\n",
       "      <td>False</td>\n",
       "      <td>0-15 Min</td>\n",
       "      <td>False</td>\n",
       "      <td>Zone X4</td>\n",
       "    </tr>\n",
       "    <tr>\n",
       "      <th>1</th>\n",
       "      <td>2005-01-23</td>\n",
       "      <td>23:15</td>\n",
       "      <td>M</td>\n",
       "      <td>White</td>\n",
       "      <td>Speeding</td>\n",
       "      <td>Speeding</td>\n",
       "      <td>False</td>\n",
       "      <td>NaN</td>\n",
       "      <td>Citation</td>\n",
       "      <td>False</td>\n",
       "      <td>0-15 Min</td>\n",
       "      <td>False</td>\n",
       "      <td>Zone K3</td>\n",
       "    </tr>\n",
       "    <tr>\n",
       "      <th>2</th>\n",
       "      <td>2005-02-17</td>\n",
       "      <td>04:15</td>\n",
       "      <td>M</td>\n",
       "      <td>White</td>\n",
       "      <td>Speeding</td>\n",
       "      <td>Speeding</td>\n",
       "      <td>False</td>\n",
       "      <td>NaN</td>\n",
       "      <td>Citation</td>\n",
       "      <td>False</td>\n",
       "      <td>0-15 Min</td>\n",
       "      <td>False</td>\n",
       "      <td>Zone X4</td>\n",
       "    </tr>\n",
       "    <tr>\n",
       "      <th>3</th>\n",
       "      <td>2005-02-20</td>\n",
       "      <td>17:15</td>\n",
       "      <td>M</td>\n",
       "      <td>White</td>\n",
       "      <td>Call for Service</td>\n",
       "      <td>Other</td>\n",
       "      <td>False</td>\n",
       "      <td>NaN</td>\n",
       "      <td>Arrest Driver</td>\n",
       "      <td>True</td>\n",
       "      <td>16-30 Min</td>\n",
       "      <td>False</td>\n",
       "      <td>Zone X1</td>\n",
       "    </tr>\n",
       "    <tr>\n",
       "      <th>4</th>\n",
       "      <td>2005-02-24</td>\n",
       "      <td>01:20</td>\n",
       "      <td>F</td>\n",
       "      <td>White</td>\n",
       "      <td>Speeding</td>\n",
       "      <td>Speeding</td>\n",
       "      <td>False</td>\n",
       "      <td>NaN</td>\n",
       "      <td>Citation</td>\n",
       "      <td>False</td>\n",
       "      <td>0-15 Min</td>\n",
       "      <td>False</td>\n",
       "      <td>Zone X3</td>\n",
       "    </tr>\n",
       "  </tbody>\n",
       "</table>\n",
       "</div>"
      ]
     },
     "execution_count": 51,
     "metadata": {},
     "output_type": "execute_result"
    }
   ],
   "execution_count": 51
  },
  {
   "metadata": {},
   "cell_type": "markdown",
   "source": [
    "\n",
    "Columns sometimes have the wrong data type, which can limit how they’re used in analysis. Adjusting them ensures accuracy and unlocks the right operations.\n",
    "\n",
    "In this step:\n",
    "\n",
    "- The **`is_arrested`** column is currently stored as an `object` type.\n",
    "- Since it contains only `True` and `False` values, it will be converted to a **boolean (`bool`) type**.\n",
    "- This change allows for logical and mathematical operations that would not be possible with the wrong data type.\n",
    "\n",
    "Correcting data types makes the dataset more consistent and easier to analyze."
   ],
   "id": "7beb24e6beedb04b"
  },
  {
   "metadata": {
    "ExecuteTime": {
     "end_time": "2025-09-24T21:21:32.780433Z",
     "start_time": "2025-09-24T21:21:32.766797Z"
    }
   },
   "cell_type": "code",
   "source": [
    "police['is_arrested']=police['is_arrested'].astype('bool')\n",
    "police['is_arrested'].dtypes"
   ],
   "id": "9bec340e9d925d65",
   "outputs": [
    {
     "data": {
      "text/plain": [
       "dtype('bool')"
      ]
     },
     "execution_count": 52,
     "metadata": {},
     "output_type": "execute_result"
    }
   ],
   "execution_count": 52
  },
  {
   "metadata": {},
   "cell_type": "markdown",
   "source": [
    "## Combining Object Columns\n",
    "\n",
    "Working with dates and times separately can be inefficient and limit analysis options. Combining them into a single column makes it easier to work with time-based data.\n",
    "\n",
    "In this step:\n",
    "\n",
    "- The **`stop_date`** and **`stop_time`** columns (currently stored as `object` types) will be **merged into one column**.\n",
    "- The combined column will then be **converted into a `datetime` format**.\n",
    "- This will allow the use of convenient **date and time attributes** (such as year, month, day, or hour) for deeper analysis later in the project.\n",
    "\n",
    "Unifying date and time creates a stronger foundation for time series analysis."
   ],
   "id": "249bf80009c908db"
  },
  {
   "metadata": {
    "ExecuteTime": {
     "end_time": "2025-09-24T21:21:32.893792Z",
     "start_time": "2025-09-24T21:21:32.815458Z"
    }
   },
   "cell_type": "code",
   "source": [
    "combined = police['stop_date'].str.cat(police['stop_time'],sep=' ')\n",
    "police['stop_datetime']=pd.to_datetime(combined)\n",
    "police['stop_datetime'].dtypes"
   ],
   "id": "fb5a97d8579cefa0",
   "outputs": [
    {
     "data": {
      "text/plain": [
       "dtype('<M8[ns]')"
      ]
     },
     "execution_count": 53,
     "metadata": {},
     "output_type": "execute_result"
    }
   ],
   "execution_count": 53
  },
  {
   "metadata": {},
   "cell_type": "markdown",
   "source": "Checking the new column",
   "id": "e64d9040e5070e67"
  },
  {
   "metadata": {
    "ExecuteTime": {
     "end_time": "2025-09-24T21:21:32.926089Z",
     "start_time": "2025-09-24T21:21:32.915752Z"
    }
   },
   "cell_type": "code",
   "source": "police['stop_datetime'].head()",
   "id": "870775e11af9f65a",
   "outputs": [
    {
     "data": {
      "text/plain": [
       "0   2005-01-04 12:55:00\n",
       "1   2005-01-23 23:15:00\n",
       "2   2005-02-17 04:15:00\n",
       "3   2005-02-20 17:15:00\n",
       "4   2005-02-24 01:20:00\n",
       "Name: stop_datetime, dtype: datetime64[ns]"
      ]
     },
     "execution_count": 54,
     "metadata": {},
     "output_type": "execute_result"
    }
   ],
   "execution_count": 54
  },
  {
   "metadata": {},
   "cell_type": "markdown",
   "source": [
    "## Setting the Index\n",
    "\n",
    "The default index in a DataFrame is usually numeric, but when working with time-based data, using a **DatetimeIndex** is more powerful.\n",
    "\n",
    "In this step:\n",
    "\n",
    "- The newly created **`stop_datetime`** column will be set as the DataFrame’s **index**.\n",
    "- This replaces the default numeric index with a **DatetimeIndex**.\n",
    "- Having a DatetimeIndex makes it easier to perform operations like **resampling, slicing by time ranges, and trend analysis**.\n",
    "\n",
    "This prepares the dataset for efficient time-based exploration and analysis in the next stages.\n"
   ],
   "id": "150a71a3583e47"
  },
  {
   "metadata": {
    "ExecuteTime": {
     "end_time": "2025-09-24T21:21:32.975610Z",
     "start_time": "2025-09-24T21:21:32.959892Z"
    }
   },
   "cell_type": "code",
   "source": [
    "police.set_index('stop_datetime', inplace=True)\n",
    "police.index"
   ],
   "id": "b4ef9d4fee36cf81",
   "outputs": [
    {
     "data": {
      "text/plain": [
       "DatetimeIndex(['2005-01-04 12:55:00', '2005-01-23 23:15:00',\n",
       "               '2005-02-17 04:15:00', '2005-02-20 17:15:00',\n",
       "               '2005-02-24 01:20:00', '2005-03-14 10:00:00',\n",
       "               '2005-03-29 21:55:00', '2005-04-04 21:25:00',\n",
       "               '2005-07-14 11:20:00', '2005-07-14 19:55:00',\n",
       "               ...\n",
       "               '2015-12-31 13:23:00', '2015-12-31 18:59:00',\n",
       "               '2015-12-31 19:13:00', '2015-12-31 20:20:00',\n",
       "               '2015-12-31 20:50:00', '2015-12-31 21:21:00',\n",
       "               '2015-12-31 21:59:00', '2015-12-31 22:04:00',\n",
       "               '2015-12-31 22:09:00', '2015-12-31 22:47:00'],\n",
       "              dtype='datetime64[ns]', name='stop_datetime', length=86536, freq=None)"
      ]
     },
     "execution_count": 55,
     "metadata": {},
     "output_type": "execute_result"
    }
   ],
   "execution_count": 55
  },
  {
   "metadata": {
    "ExecuteTime": {
     "end_time": "2025-09-24T21:21:33.011339Z",
     "start_time": "2025-09-24T21:21:32.990826Z"
    }
   },
   "cell_type": "code",
   "source": "police.head()",
   "id": "2fff2b6318c882f9",
   "outputs": [
    {
     "data": {
      "text/plain": [
       "                      stop_date stop_time driver_gender driver_race  \\\n",
       "stop_datetime                                                         \n",
       "2005-01-04 12:55:00  2005-01-04     12:55             M       White   \n",
       "2005-01-23 23:15:00  2005-01-23     23:15             M       White   \n",
       "2005-02-17 04:15:00  2005-02-17     04:15             M       White   \n",
       "2005-02-20 17:15:00  2005-02-20     17:15             M       White   \n",
       "2005-02-24 01:20:00  2005-02-24     01:20             F       White   \n",
       "\n",
       "                                      violation_raw  violation  \\\n",
       "stop_datetime                                                    \n",
       "2005-01-04 12:55:00  Equipment/Inspection Violation  Equipment   \n",
       "2005-01-23 23:15:00                        Speeding   Speeding   \n",
       "2005-02-17 04:15:00                        Speeding   Speeding   \n",
       "2005-02-20 17:15:00                Call for Service      Other   \n",
       "2005-02-24 01:20:00                        Speeding   Speeding   \n",
       "\n",
       "                     search_conducted search_type   stop_outcome  is_arrested  \\\n",
       "stop_datetime                                                                   \n",
       "2005-01-04 12:55:00             False         NaN       Citation        False   \n",
       "2005-01-23 23:15:00             False         NaN       Citation        False   \n",
       "2005-02-17 04:15:00             False         NaN       Citation        False   \n",
       "2005-02-20 17:15:00             False         NaN  Arrest Driver         True   \n",
       "2005-02-24 01:20:00             False         NaN       Citation        False   \n",
       "\n",
       "                    stop_duration  drugs_related_stop district  \n",
       "stop_datetime                                                   \n",
       "2005-01-04 12:55:00      0-15 Min               False  Zone X4  \n",
       "2005-01-23 23:15:00      0-15 Min               False  Zone K3  \n",
       "2005-02-17 04:15:00      0-15 Min               False  Zone X4  \n",
       "2005-02-20 17:15:00     16-30 Min               False  Zone X1  \n",
       "2005-02-24 01:20:00      0-15 Min               False  Zone X3  "
      ],
      "text/html": [
       "<div>\n",
       "<style scoped>\n",
       "    .dataframe tbody tr th:only-of-type {\n",
       "        vertical-align: middle;\n",
       "    }\n",
       "\n",
       "    .dataframe tbody tr th {\n",
       "        vertical-align: top;\n",
       "    }\n",
       "\n",
       "    .dataframe thead th {\n",
       "        text-align: right;\n",
       "    }\n",
       "</style>\n",
       "<table border=\"1\" class=\"dataframe\">\n",
       "  <thead>\n",
       "    <tr style=\"text-align: right;\">\n",
       "      <th></th>\n",
       "      <th>stop_date</th>\n",
       "      <th>stop_time</th>\n",
       "      <th>driver_gender</th>\n",
       "      <th>driver_race</th>\n",
       "      <th>violation_raw</th>\n",
       "      <th>violation</th>\n",
       "      <th>search_conducted</th>\n",
       "      <th>search_type</th>\n",
       "      <th>stop_outcome</th>\n",
       "      <th>is_arrested</th>\n",
       "      <th>stop_duration</th>\n",
       "      <th>drugs_related_stop</th>\n",
       "      <th>district</th>\n",
       "    </tr>\n",
       "    <tr>\n",
       "      <th>stop_datetime</th>\n",
       "      <th></th>\n",
       "      <th></th>\n",
       "      <th></th>\n",
       "      <th></th>\n",
       "      <th></th>\n",
       "      <th></th>\n",
       "      <th></th>\n",
       "      <th></th>\n",
       "      <th></th>\n",
       "      <th></th>\n",
       "      <th></th>\n",
       "      <th></th>\n",
       "      <th></th>\n",
       "    </tr>\n",
       "  </thead>\n",
       "  <tbody>\n",
       "    <tr>\n",
       "      <th>2005-01-04 12:55:00</th>\n",
       "      <td>2005-01-04</td>\n",
       "      <td>12:55</td>\n",
       "      <td>M</td>\n",
       "      <td>White</td>\n",
       "      <td>Equipment/Inspection Violation</td>\n",
       "      <td>Equipment</td>\n",
       "      <td>False</td>\n",
       "      <td>NaN</td>\n",
       "      <td>Citation</td>\n",
       "      <td>False</td>\n",
       "      <td>0-15 Min</td>\n",
       "      <td>False</td>\n",
       "      <td>Zone X4</td>\n",
       "    </tr>\n",
       "    <tr>\n",
       "      <th>2005-01-23 23:15:00</th>\n",
       "      <td>2005-01-23</td>\n",
       "      <td>23:15</td>\n",
       "      <td>M</td>\n",
       "      <td>White</td>\n",
       "      <td>Speeding</td>\n",
       "      <td>Speeding</td>\n",
       "      <td>False</td>\n",
       "      <td>NaN</td>\n",
       "      <td>Citation</td>\n",
       "      <td>False</td>\n",
       "      <td>0-15 Min</td>\n",
       "      <td>False</td>\n",
       "      <td>Zone K3</td>\n",
       "    </tr>\n",
       "    <tr>\n",
       "      <th>2005-02-17 04:15:00</th>\n",
       "      <td>2005-02-17</td>\n",
       "      <td>04:15</td>\n",
       "      <td>M</td>\n",
       "      <td>White</td>\n",
       "      <td>Speeding</td>\n",
       "      <td>Speeding</td>\n",
       "      <td>False</td>\n",
       "      <td>NaN</td>\n",
       "      <td>Citation</td>\n",
       "      <td>False</td>\n",
       "      <td>0-15 Min</td>\n",
       "      <td>False</td>\n",
       "      <td>Zone X4</td>\n",
       "    </tr>\n",
       "    <tr>\n",
       "      <th>2005-02-20 17:15:00</th>\n",
       "      <td>2005-02-20</td>\n",
       "      <td>17:15</td>\n",
       "      <td>M</td>\n",
       "      <td>White</td>\n",
       "      <td>Call for Service</td>\n",
       "      <td>Other</td>\n",
       "      <td>False</td>\n",
       "      <td>NaN</td>\n",
       "      <td>Arrest Driver</td>\n",
       "      <td>True</td>\n",
       "      <td>16-30 Min</td>\n",
       "      <td>False</td>\n",
       "      <td>Zone X1</td>\n",
       "    </tr>\n",
       "    <tr>\n",
       "      <th>2005-02-24 01:20:00</th>\n",
       "      <td>2005-02-24</td>\n",
       "      <td>01:20</td>\n",
       "      <td>F</td>\n",
       "      <td>White</td>\n",
       "      <td>Speeding</td>\n",
       "      <td>Speeding</td>\n",
       "      <td>False</td>\n",
       "      <td>NaN</td>\n",
       "      <td>Citation</td>\n",
       "      <td>False</td>\n",
       "      <td>0-15 Min</td>\n",
       "      <td>False</td>\n",
       "      <td>Zone X3</td>\n",
       "    </tr>\n",
       "  </tbody>\n",
       "</table>\n",
       "</div>"
      ]
     },
     "execution_count": 56,
     "metadata": {},
     "output_type": "execute_result"
    }
   ],
   "execution_count": 56
  },
  {
   "metadata": {},
   "cell_type": "markdown",
   "source": "### Chapter Two: Exploring the relationship between gender and policing",
   "id": "ecdbac9969e74cb3"
  },
  {
   "metadata": {},
   "cell_type": "markdown",
   "source": [
    "## Examining Traffic Violations\n",
    "\n",
    "Before comparing violations across genders, it’s important to understand the overall distribution of violations committed by **all drivers**. This baseline helps provide context for any differences observed later.\n",
    "\n",
    "Here’s what I will do:\n",
    "\n",
    "1. I will **count the unique values** in the `violation` column of the `ri` DataFrame to identify the different types of traffic violations recorded.\n",
    "2. I will **calculate the proportions** of each violation type by expressing the counts as a percentage of the total number of traffic stops.\n",
    "\n",
    "This initial analysis will give a clear overview of the most common violations in the dataset before breaking them down by gender.\n"
   ],
   "id": "8ca1fe255d60a09a"
  },
  {
   "metadata": {
    "ExecuteTime": {
     "end_time": "2025-09-24T21:21:33.057111Z",
     "start_time": "2025-09-24T21:21:33.042463Z"
    }
   },
   "cell_type": "code",
   "source": "police.violation.value_counts()",
   "id": "a60eb16ae17e6384",
   "outputs": [
    {
     "data": {
      "text/plain": [
       "violation\n",
       "Speeding               48423\n",
       "Moving violation       16224\n",
       "Equipment              10921\n",
       "Other                   4409\n",
       "Registration/plates     3703\n",
       "Seat belt               2856\n",
       "Name: count, dtype: int64"
      ]
     },
     "execution_count": 57,
     "metadata": {},
     "output_type": "execute_result"
    }
   ],
   "execution_count": 57
  },
  {
   "metadata": {
    "ExecuteTime": {
     "end_time": "2025-09-24T21:21:33.110978Z",
     "start_time": "2025-09-24T21:21:33.096709Z"
    }
   },
   "cell_type": "code",
   "source": "police.violation.value_counts(normalize = True)",
   "id": "7c8f1d660c9bfc33",
   "outputs": [
    {
     "data": {
      "text/plain": [
       "violation\n",
       "Speeding               0.559571\n",
       "Moving violation       0.187483\n",
       "Equipment              0.126202\n",
       "Other                  0.050950\n",
       "Registration/plates    0.042791\n",
       "Seat belt              0.033004\n",
       "Name: proportion, dtype: float64"
      ]
     },
     "execution_count": 58,
     "metadata": {},
     "output_type": "execute_result"
    }
   ],
   "execution_count": 58
  },
  {
   "metadata": {},
   "cell_type": "markdown",
   "source": [
    "## Comparing Violations by Gender\n",
    "\n",
    "To see if male and female drivers commit different types of traffic violations, I will separate the dataset by gender and analyze the distribution of violations for each group.\n",
    "\n",
    "Here’s what I will do:\n",
    "\n",
    "1. I will **create a DataFrame** called `female` containing only the rows where `driver_gender` is `'F'`.\n",
    "2. I will **create another DataFrame** called `male` containing only the rows where `driver_gender` is `'M'`.\n",
    "3. I will **count the types of violations** committed by female drivers and calculate their **proportions** relative to the total number of stops for females.\n",
    "4. I will **repeat the same calculation** for male drivers to see how their violation patterns compare.\n",
    "\n",
    "This breakdown will help identify whether there are notable differences in the types of violations committed by each gender."
   ],
   "id": "c634795760dd6bcc"
  },
  {
   "metadata": {
    "ExecuteTime": {
     "end_time": "2025-09-24T21:24:05.376800Z",
     "start_time": "2025-09-24T21:24:05.348776Z"
    }
   },
   "cell_type": "code",
   "source": [
    "female = police[police.driver_gender == 'F']\n",
    "female_violations = female.violation.value_counts(normalize=True)\n",
    "print(female_violations)"
   ],
   "id": "9f160ea6fb1b7b0e",
   "outputs": [
    {
     "name": "stdout",
     "output_type": "stream",
     "text": [
      "violation\n",
      "Speeding               0.658114\n",
      "Moving violation       0.138218\n",
      "Equipment              0.105199\n",
      "Registration/plates    0.044418\n",
      "Other                  0.029738\n",
      "Seat belt              0.024312\n",
      "Name: proportion, dtype: float64\n"
     ]
    }
   ],
   "execution_count": 65
  },
  {
   "metadata": {
    "ExecuteTime": {
     "end_time": "2025-09-24T21:24:40.921205Z",
     "start_time": "2025-09-24T21:24:40.890432Z"
    }
   },
   "cell_type": "code",
   "source": [
    "male = police[police.driver_gender == \"M\"]\n",
    "male_violations = male.violation.value_counts(normalize=True)\n",
    "print(male_violations)"
   ],
   "id": "1067945459dcbc06",
   "outputs": [
    {
     "name": "stdout",
     "output_type": "stream",
     "text": [
      "violation\n",
      "Speeding               0.522243\n",
      "Moving violation       0.206144\n",
      "Equipment              0.134158\n",
      "Other                  0.058985\n",
      "Registration/plates    0.042175\n",
      "Seat belt              0.036296\n",
      "Name: proportion, dtype: float64\n"
     ]
    }
   ],
   "execution_count": 66
  },
  {
   "metadata": {},
   "cell_type": "markdown",
   "source": [
    "## Comparing Speeding Outcomes by Gender\n",
    "\n",
    "To investigate whether gender affects the outcome of a speeding stop, I will analyze the proportions of **citations** and **warnings** issued to male and female drivers.\n",
    "\n",
    "Here’s what I will do:\n",
    "\n",
    "1. I will **create a DataFrame** called `female_and_speeding` that includes only **female drivers** who were stopped for speeding.\n",
    "2. I will **create another DataFrame** called `male_and_speeding` that includes only **male drivers** stopped for speeding.\n",
    "3. I will **count the stop outcomes** for female drivers (from the `stop_outcome` column) and express them as **proportions** to see the percentage of citations vs. warnings.\n",
    "4. I will **repeat the same calculation** for male drivers to compare the results.\n",
    "\n",
    "This will help determine if there is evidence in the data that gender influences the outcome of speeding stops.\n"
   ],
   "id": "189a2cc8eff42fba"
  },
  {
   "metadata": {
    "ExecuteTime": {
     "end_time": "2025-09-24T21:30:23.917351Z",
     "start_time": "2025-09-24T21:30:23.864159Z"
    }
   },
   "cell_type": "code",
   "source": [
    "female_and_speeding = female[female.violation == 'Speeding']\n",
    "female_and_speeding.stop_outcome.value_counts(normalize=True)"
   ],
   "id": "65bc5bd56dad6b1b",
   "outputs": [
    {
     "data": {
      "text/plain": [
       "stop_outcome\n",
       "Citation            0.952192\n",
       "Warning             0.040074\n",
       "Arrest Driver       0.005752\n",
       "N/D                 0.000959\n",
       "Arrest Passenger    0.000639\n",
       "No Action           0.000383\n",
       "Name: proportion, dtype: float64"
      ]
     },
     "execution_count": 69,
     "metadata": {},
     "output_type": "execute_result"
    }
   ],
   "execution_count": 69
  },
  {
   "metadata": {
    "ExecuteTime": {
     "end_time": "2025-09-24T21:32:07.261166Z",
     "start_time": "2025-09-24T21:32:07.241117Z"
    }
   },
   "cell_type": "code",
   "source": [
    "male_and_speeding = male[male.violation == 'Speeding']\n",
    "male_and_speeding.stop_outcome.value_counts(normalize=True)"
   ],
   "id": "cda5949325560857",
   "outputs": [
    {
     "data": {
      "text/plain": [
       "stop_outcome\n",
       "Citation            0.944595\n",
       "Warning             0.036184\n",
       "Arrest Driver       0.015895\n",
       "Arrest Passenger    0.001281\n",
       "No Action           0.001068\n",
       "N/D                 0.000976\n",
       "Name: proportion, dtype: float64"
      ]
     },
     "execution_count": 72,
     "metadata": {},
     "output_type": "execute_result"
    }
   ],
   "execution_count": 72
  },
  {
   "metadata": {},
   "cell_type": "markdown",
   "source": [
    "## Calculating the Search Rate\n",
    "\n",
    "To understand how frequently vehicle searches occur during traffic stops, I will calculate the **search rate** — the percentage of stops that lead to a search.\n",
    "\n",
    "Here’s what I will do:\n",
    "\n",
    "1. I will **check the data type** of the `search_conducted` column to make sure it is a **Boolean Series** (`True` or `False`).\n",
    "2. I will **count the values** in the Series and express them as **proportions** to calculate the percentage of stops where a search was conducted.\n",
    "3. I will **take the mean** of the Series to calculate the search rate again — this should match the proportion of `True` values from the previous step.\n",
    "\n",
    "This will give a clear measure of how often searches occur across all traffic stops in the dataset.\n"
   ],
   "id": "d60e1e05e5057cea"
  },
  {
   "metadata": {
    "ExecuteTime": {
     "end_time": "2025-09-24T21:35:54.220644Z",
     "start_time": "2025-09-24T21:35:54.209071Z"
    }
   },
   "cell_type": "code",
   "source": "police.search_conducted.dtypes",
   "id": "12003d71be4ed9cd",
   "outputs": [
    {
     "data": {
      "text/plain": [
       "dtype('bool')"
      ]
     },
     "execution_count": 73,
     "metadata": {},
     "output_type": "execute_result"
    }
   ],
   "execution_count": 73
  },
  {
   "metadata": {
    "ExecuteTime": {
     "end_time": "2025-09-24T21:36:35.880217Z",
     "start_time": "2025-09-24T21:36:35.862830Z"
    }
   },
   "cell_type": "code",
   "source": "police.search_conducted.value_counts(normalize=True)",
   "id": "1c20dedae949b67c",
   "outputs": [
    {
     "data": {
      "text/plain": [
       "search_conducted\n",
       "False    0.961785\n",
       "True     0.038215\n",
       "Name: proportion, dtype: float64"
      ]
     },
     "execution_count": 76,
     "metadata": {},
     "output_type": "execute_result"
    }
   ],
   "execution_count": 76
  },
  {
   "metadata": {
    "ExecuteTime": {
     "end_time": "2025-09-24T21:37:04.179223Z",
     "start_time": "2025-09-24T21:37:04.168414Z"
    }
   },
   "cell_type": "code",
   "source": "print(police.search_conducted.mean())",
   "id": "6371b16757574cf1",
   "outputs": [
    {
     "name": "stdout",
     "output_type": "stream",
     "text": [
      "0.0382153092354627\n"
     ]
    }
   ],
   "execution_count": 78
  },
  {
   "metadata": {},
   "cell_type": "markdown",
   "source": [
    "## Comparing Search Rates by Gender\n",
    "\n",
    "To understand whether gender influences the likelihood of a vehicle search, I will calculate and compare search rates for female and male drivers separately, then verify the results using a grouped calculation.\n",
    "\n",
    "Here’s what I will do:\n",
    "\n",
    "1. I will **filter the DataFrame** to include only female drivers and calculate the search rate by taking the **mean of `search_conducted`**.\n",
    "2. I will **repeat the process for male drivers**, filtering the DataFrame by gender and again calculating the mean search rate.\n",
    "3. I will **group the dataset by `driver_gender`** and calculate the search rate for both genders at once, confirming that the results match the individual calculations.\n",
    "\n",
    "This step will show whether male and female drivers experience different search rates during traffic stops.\n"
   ],
   "id": "48cd8cafe899a94f"
  },
  {
   "metadata": {
    "ExecuteTime": {
     "end_time": "2025-09-24T21:45:11.158130Z",
     "start_time": "2025-09-24T21:45:11.088506Z"
    }
   },
   "cell_type": "code",
   "source": "police.head()",
   "id": "e019d3dff976b25a",
   "outputs": [
    {
     "data": {
      "text/plain": [
       "                      stop_date stop_time driver_gender driver_race  \\\n",
       "stop_datetime                                                         \n",
       "2005-01-04 12:55:00  2005-01-04     12:55             M       White   \n",
       "2005-01-23 23:15:00  2005-01-23     23:15             M       White   \n",
       "2005-02-17 04:15:00  2005-02-17     04:15             M       White   \n",
       "2005-02-20 17:15:00  2005-02-20     17:15             M       White   \n",
       "2005-02-24 01:20:00  2005-02-24     01:20             F       White   \n",
       "\n",
       "                                      violation_raw  violation  \\\n",
       "stop_datetime                                                    \n",
       "2005-01-04 12:55:00  Equipment/Inspection Violation  Equipment   \n",
       "2005-01-23 23:15:00                        Speeding   Speeding   \n",
       "2005-02-17 04:15:00                        Speeding   Speeding   \n",
       "2005-02-20 17:15:00                Call for Service      Other   \n",
       "2005-02-24 01:20:00                        Speeding   Speeding   \n",
       "\n",
       "                     search_conducted search_type   stop_outcome  is_arrested  \\\n",
       "stop_datetime                                                                   \n",
       "2005-01-04 12:55:00             False         NaN       Citation        False   \n",
       "2005-01-23 23:15:00             False         NaN       Citation        False   \n",
       "2005-02-17 04:15:00             False         NaN       Citation        False   \n",
       "2005-02-20 17:15:00             False         NaN  Arrest Driver         True   \n",
       "2005-02-24 01:20:00             False         NaN       Citation        False   \n",
       "\n",
       "                    stop_duration  drugs_related_stop district  \n",
       "stop_datetime                                                   \n",
       "2005-01-04 12:55:00      0-15 Min               False  Zone X4  \n",
       "2005-01-23 23:15:00      0-15 Min               False  Zone K3  \n",
       "2005-02-17 04:15:00      0-15 Min               False  Zone X4  \n",
       "2005-02-20 17:15:00     16-30 Min               False  Zone X1  \n",
       "2005-02-24 01:20:00      0-15 Min               False  Zone X3  "
      ],
      "text/html": [
       "<div>\n",
       "<style scoped>\n",
       "    .dataframe tbody tr th:only-of-type {\n",
       "        vertical-align: middle;\n",
       "    }\n",
       "\n",
       "    .dataframe tbody tr th {\n",
       "        vertical-align: top;\n",
       "    }\n",
       "\n",
       "    .dataframe thead th {\n",
       "        text-align: right;\n",
       "    }\n",
       "</style>\n",
       "<table border=\"1\" class=\"dataframe\">\n",
       "  <thead>\n",
       "    <tr style=\"text-align: right;\">\n",
       "      <th></th>\n",
       "      <th>stop_date</th>\n",
       "      <th>stop_time</th>\n",
       "      <th>driver_gender</th>\n",
       "      <th>driver_race</th>\n",
       "      <th>violation_raw</th>\n",
       "      <th>violation</th>\n",
       "      <th>search_conducted</th>\n",
       "      <th>search_type</th>\n",
       "      <th>stop_outcome</th>\n",
       "      <th>is_arrested</th>\n",
       "      <th>stop_duration</th>\n",
       "      <th>drugs_related_stop</th>\n",
       "      <th>district</th>\n",
       "    </tr>\n",
       "    <tr>\n",
       "      <th>stop_datetime</th>\n",
       "      <th></th>\n",
       "      <th></th>\n",
       "      <th></th>\n",
       "      <th></th>\n",
       "      <th></th>\n",
       "      <th></th>\n",
       "      <th></th>\n",
       "      <th></th>\n",
       "      <th></th>\n",
       "      <th></th>\n",
       "      <th></th>\n",
       "      <th></th>\n",
       "      <th></th>\n",
       "    </tr>\n",
       "  </thead>\n",
       "  <tbody>\n",
       "    <tr>\n",
       "      <th>2005-01-04 12:55:00</th>\n",
       "      <td>2005-01-04</td>\n",
       "      <td>12:55</td>\n",
       "      <td>M</td>\n",
       "      <td>White</td>\n",
       "      <td>Equipment/Inspection Violation</td>\n",
       "      <td>Equipment</td>\n",
       "      <td>False</td>\n",
       "      <td>NaN</td>\n",
       "      <td>Citation</td>\n",
       "      <td>False</td>\n",
       "      <td>0-15 Min</td>\n",
       "      <td>False</td>\n",
       "      <td>Zone X4</td>\n",
       "    </tr>\n",
       "    <tr>\n",
       "      <th>2005-01-23 23:15:00</th>\n",
       "      <td>2005-01-23</td>\n",
       "      <td>23:15</td>\n",
       "      <td>M</td>\n",
       "      <td>White</td>\n",
       "      <td>Speeding</td>\n",
       "      <td>Speeding</td>\n",
       "      <td>False</td>\n",
       "      <td>NaN</td>\n",
       "      <td>Citation</td>\n",
       "      <td>False</td>\n",
       "      <td>0-15 Min</td>\n",
       "      <td>False</td>\n",
       "      <td>Zone K3</td>\n",
       "    </tr>\n",
       "    <tr>\n",
       "      <th>2005-02-17 04:15:00</th>\n",
       "      <td>2005-02-17</td>\n",
       "      <td>04:15</td>\n",
       "      <td>M</td>\n",
       "      <td>White</td>\n",
       "      <td>Speeding</td>\n",
       "      <td>Speeding</td>\n",
       "      <td>False</td>\n",
       "      <td>NaN</td>\n",
       "      <td>Citation</td>\n",
       "      <td>False</td>\n",
       "      <td>0-15 Min</td>\n",
       "      <td>False</td>\n",
       "      <td>Zone X4</td>\n",
       "    </tr>\n",
       "    <tr>\n",
       "      <th>2005-02-20 17:15:00</th>\n",
       "      <td>2005-02-20</td>\n",
       "      <td>17:15</td>\n",
       "      <td>M</td>\n",
       "      <td>White</td>\n",
       "      <td>Call for Service</td>\n",
       "      <td>Other</td>\n",
       "      <td>False</td>\n",
       "      <td>NaN</td>\n",
       "      <td>Arrest Driver</td>\n",
       "      <td>True</td>\n",
       "      <td>16-30 Min</td>\n",
       "      <td>False</td>\n",
       "      <td>Zone X1</td>\n",
       "    </tr>\n",
       "    <tr>\n",
       "      <th>2005-02-24 01:20:00</th>\n",
       "      <td>2005-02-24</td>\n",
       "      <td>01:20</td>\n",
       "      <td>F</td>\n",
       "      <td>White</td>\n",
       "      <td>Speeding</td>\n",
       "      <td>Speeding</td>\n",
       "      <td>False</td>\n",
       "      <td>NaN</td>\n",
       "      <td>Citation</td>\n",
       "      <td>False</td>\n",
       "      <td>0-15 Min</td>\n",
       "      <td>False</td>\n",
       "      <td>Zone X3</td>\n",
       "    </tr>\n",
       "  </tbody>\n",
       "</table>\n",
       "</div>"
      ]
     },
     "execution_count": 79,
     "metadata": {},
     "output_type": "execute_result"
    }
   ],
   "execution_count": 79
  },
  {
   "metadata": {
    "ExecuteTime": {
     "end_time": "2025-09-24T21:46:30.302299Z",
     "start_time": "2025-09-24T21:46:30.281747Z"
    }
   },
   "cell_type": "code",
   "source": "print(police[police.driver_gender == 'F'].search_conducted.mean())",
   "id": "58b5284d3a69aebe",
   "outputs": [
    {
     "name": "stdout",
     "output_type": "stream",
     "text": [
      "0.019180617481282074\n"
     ]
    }
   ],
   "execution_count": 81
  },
  {
   "metadata": {
    "ExecuteTime": {
     "end_time": "2025-09-24T21:46:46.299545Z",
     "start_time": "2025-09-24T21:46:46.267621Z"
    }
   },
   "cell_type": "code",
   "source": "print(police[police.driver_gender == 'M'].search_conducted.mean())",
   "id": "f01dc12b39e79539",
   "outputs": [
    {
     "name": "stdout",
     "output_type": "stream",
     "text": [
      "0.04542557598546892\n"
     ]
    }
   ],
   "execution_count": 82
  },
  {
   "metadata": {
    "ExecuteTime": {
     "end_time": "2025-09-24T21:47:53.680911Z",
     "start_time": "2025-09-24T21:47:53.595785Z"
    }
   },
   "cell_type": "code",
   "source": "print(police.groupby('driver_gender').search_conducted.mean())",
   "id": "b054372eac7e72f5",
   "outputs": [
    {
     "name": "stdout",
     "output_type": "stream",
     "text": [
      "driver_gender\n",
      "F    0.019181\n",
      "M    0.045426\n",
      "Name: search_conducted, dtype: float64\n"
     ]
    }
   ],
   "execution_count": 84
  },
  {
   "metadata": {},
   "cell_type": "code",
   "outputs": [],
   "execution_count": null,
   "source": "",
   "id": "4b2d3adec03dcf94"
  }
 ],
 "metadata": {
  "kernelspec": {
   "display_name": "Python 3",
   "language": "python",
   "name": "python3"
  },
  "language_info": {
   "codemirror_mode": {
    "name": "ipython",
    "version": 2
   },
   "file_extension": ".py",
   "mimetype": "text/x-python",
   "name": "python",
   "nbconvert_exporter": "python",
   "pygments_lexer": "ipython2",
   "version": "2.7.6"
  }
 },
 "nbformat": 4,
 "nbformat_minor": 5
}
