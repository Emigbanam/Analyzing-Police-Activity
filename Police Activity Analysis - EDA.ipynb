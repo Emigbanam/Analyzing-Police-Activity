{
 "cells": [
  {
   "metadata": {},
   "cell_type": "markdown",
   "source": [
    "# Analyzing Police Activity with Pandas\n",
    "\n",
    "This project applies the foundations of **pandas** to answer real-world questions using the **Stanford Open Policing Project dataset**. The focus is on analyzing the impact of gender on police behavior while practicing essential data analysis skills.\n",
    "\n",
    "Through this project, you will:\n",
    "\n",
    "- Explore and clean messy datasets\n",
    "- Fix data types and handle missing values\n",
    "- Drop unnecessary columns and rows\n",
    "- Create meaningful visualizations\n",
    "- Combine and reshape datasets\n",
    "- Work with time series data\n",
    "\n",
    "The goal is to complete a full analysis workflow—from raw data to insights—building practical experience for a data science career.\n",
    "\n",
    "---\n"
   ],
   "id": "a86d1d6619875187"
  },
  {
   "metadata": {},
   "cell_type": "markdown",
   "source": [
    "## Chapter 1: Preparing the Data for Analysis\n",
    "\n",
    "Before starting the analysis, it’s important to prepare the dataset.\n",
    "In this step, the work involves:\n",
    "\n",
    "- Examining the raw data\n",
    "- Fixing data types for consistency\n",
    "- Handling missing values\n",
    "- Dropping irrelevant columns and rows\n",
    "\n",
    "This ensures the dataset is ready for efficient exploration and accurate analysis."
   ],
   "id": "74dbda4fa380168d"
  },
  {
   "cell_type": "code",
   "id": "initial_id",
   "metadata": {
    "collapsed": true,
    "ExecuteTime": {
     "end_time": "2025-09-23T21:05:52.226921Z",
     "start_time": "2025-09-23T21:05:52.220424Z"
    }
   },
   "source": [
    "import pandas as pd\n",
    "import numpy as np\n",
    "import warnings\n",
    "warnings.filterwarnings('ignore')"
   ],
   "outputs": [],
   "execution_count": 13
  },
  {
   "metadata": {
    "ExecuteTime": {
     "end_time": "2025-09-23T21:05:52.432632Z",
     "start_time": "2025-09-23T21:05:52.248977Z"
    }
   },
   "cell_type": "code",
   "source": [
    "police = pd.read_csv(r\"C:\\Users\\Emigb\\Documents\\Data Science\\datasets\\police.csv\")\n",
    "police.head()"
   ],
   "id": "54b976997d2c324b",
   "outputs": [
    {
     "data": {
      "text/plain": [
       "  state   stop_date stop_time  county_name driver_gender driver_race  \\\n",
       "0    RI  2005-01-04     12:55          NaN             M       White   \n",
       "1    RI  2005-01-23     23:15          NaN             M       White   \n",
       "2    RI  2005-02-17     04:15          NaN             M       White   \n",
       "3    RI  2005-02-20     17:15          NaN             M       White   \n",
       "4    RI  2005-02-24     01:20          NaN             F       White   \n",
       "\n",
       "                    violation_raw  violation  search_conducted search_type  \\\n",
       "0  Equipment/Inspection Violation  Equipment             False         NaN   \n",
       "1                        Speeding   Speeding             False         NaN   \n",
       "2                        Speeding   Speeding             False         NaN   \n",
       "3                Call for Service      Other             False         NaN   \n",
       "4                        Speeding   Speeding             False         NaN   \n",
       "\n",
       "    stop_outcome is_arrested stop_duration  drugs_related_stop district  \n",
       "0       Citation       False      0-15 Min               False  Zone X4  \n",
       "1       Citation       False      0-15 Min               False  Zone K3  \n",
       "2       Citation       False      0-15 Min               False  Zone X4  \n",
       "3  Arrest Driver        True     16-30 Min               False  Zone X1  \n",
       "4       Citation       False      0-15 Min               False  Zone X3  "
      ],
      "text/html": [
       "<div>\n",
       "<style scoped>\n",
       "    .dataframe tbody tr th:only-of-type {\n",
       "        vertical-align: middle;\n",
       "    }\n",
       "\n",
       "    .dataframe tbody tr th {\n",
       "        vertical-align: top;\n",
       "    }\n",
       "\n",
       "    .dataframe thead th {\n",
       "        text-align: right;\n",
       "    }\n",
       "</style>\n",
       "<table border=\"1\" class=\"dataframe\">\n",
       "  <thead>\n",
       "    <tr style=\"text-align: right;\">\n",
       "      <th></th>\n",
       "      <th>state</th>\n",
       "      <th>stop_date</th>\n",
       "      <th>stop_time</th>\n",
       "      <th>county_name</th>\n",
       "      <th>driver_gender</th>\n",
       "      <th>driver_race</th>\n",
       "      <th>violation_raw</th>\n",
       "      <th>violation</th>\n",
       "      <th>search_conducted</th>\n",
       "      <th>search_type</th>\n",
       "      <th>stop_outcome</th>\n",
       "      <th>is_arrested</th>\n",
       "      <th>stop_duration</th>\n",
       "      <th>drugs_related_stop</th>\n",
       "      <th>district</th>\n",
       "    </tr>\n",
       "  </thead>\n",
       "  <tbody>\n",
       "    <tr>\n",
       "      <th>0</th>\n",
       "      <td>RI</td>\n",
       "      <td>2005-01-04</td>\n",
       "      <td>12:55</td>\n",
       "      <td>NaN</td>\n",
       "      <td>M</td>\n",
       "      <td>White</td>\n",
       "      <td>Equipment/Inspection Violation</td>\n",
       "      <td>Equipment</td>\n",
       "      <td>False</td>\n",
       "      <td>NaN</td>\n",
       "      <td>Citation</td>\n",
       "      <td>False</td>\n",
       "      <td>0-15 Min</td>\n",
       "      <td>False</td>\n",
       "      <td>Zone X4</td>\n",
       "    </tr>\n",
       "    <tr>\n",
       "      <th>1</th>\n",
       "      <td>RI</td>\n",
       "      <td>2005-01-23</td>\n",
       "      <td>23:15</td>\n",
       "      <td>NaN</td>\n",
       "      <td>M</td>\n",
       "      <td>White</td>\n",
       "      <td>Speeding</td>\n",
       "      <td>Speeding</td>\n",
       "      <td>False</td>\n",
       "      <td>NaN</td>\n",
       "      <td>Citation</td>\n",
       "      <td>False</td>\n",
       "      <td>0-15 Min</td>\n",
       "      <td>False</td>\n",
       "      <td>Zone K3</td>\n",
       "    </tr>\n",
       "    <tr>\n",
       "      <th>2</th>\n",
       "      <td>RI</td>\n",
       "      <td>2005-02-17</td>\n",
       "      <td>04:15</td>\n",
       "      <td>NaN</td>\n",
       "      <td>M</td>\n",
       "      <td>White</td>\n",
       "      <td>Speeding</td>\n",
       "      <td>Speeding</td>\n",
       "      <td>False</td>\n",
       "      <td>NaN</td>\n",
       "      <td>Citation</td>\n",
       "      <td>False</td>\n",
       "      <td>0-15 Min</td>\n",
       "      <td>False</td>\n",
       "      <td>Zone X4</td>\n",
       "    </tr>\n",
       "    <tr>\n",
       "      <th>3</th>\n",
       "      <td>RI</td>\n",
       "      <td>2005-02-20</td>\n",
       "      <td>17:15</td>\n",
       "      <td>NaN</td>\n",
       "      <td>M</td>\n",
       "      <td>White</td>\n",
       "      <td>Call for Service</td>\n",
       "      <td>Other</td>\n",
       "      <td>False</td>\n",
       "      <td>NaN</td>\n",
       "      <td>Arrest Driver</td>\n",
       "      <td>True</td>\n",
       "      <td>16-30 Min</td>\n",
       "      <td>False</td>\n",
       "      <td>Zone X1</td>\n",
       "    </tr>\n",
       "    <tr>\n",
       "      <th>4</th>\n",
       "      <td>RI</td>\n",
       "      <td>2005-02-24</td>\n",
       "      <td>01:20</td>\n",
       "      <td>NaN</td>\n",
       "      <td>F</td>\n",
       "      <td>White</td>\n",
       "      <td>Speeding</td>\n",
       "      <td>Speeding</td>\n",
       "      <td>False</td>\n",
       "      <td>NaN</td>\n",
       "      <td>Citation</td>\n",
       "      <td>False</td>\n",
       "      <td>0-15 Min</td>\n",
       "      <td>False</td>\n",
       "      <td>Zone X3</td>\n",
       "    </tr>\n",
       "  </tbody>\n",
       "</table>\n",
       "</div>"
      ]
     },
     "execution_count": 14,
     "metadata": {},
     "output_type": "execute_result"
    }
   ],
   "execution_count": 14
  },
  {
   "metadata": {},
   "cell_type": "markdown",
   "source": [
    "## Exploring the Dataset\n",
    "\n",
    "The analysis will focus on a dataset of traffic stops in **Rhode Island**, collected by the **Stanford Open Policing Project**.\n",
    "\n",
    "Before diving into deeper analysis, the first step is to get familiar with the dataset. This involves:\n",
    "\n",
    "- **Loading the dataset** into pandas for use\n",
    "- **Viewing the first few rows** to understand its structure and contents\n",
    "- **Counting missing values** to identify data quality issues that need attention\n",
    "\n",
    "This initial exploration ensures a clear understanding of what the dataset contains and highlights areas that require cleaning before further analysis.\n"
   ],
   "id": "68d23dadd2766900"
  },
  {
   "metadata": {
    "ExecuteTime": {
     "end_time": "2025-09-23T21:05:52.502663Z",
     "start_time": "2025-09-23T21:05:52.455346Z"
    }
   },
   "cell_type": "code",
   "source": "police.isnull().sum()",
   "id": "36b528fd904c8e49",
   "outputs": [
    {
     "data": {
      "text/plain": [
       "state                     0\n",
       "stop_date                 0\n",
       "stop_time                 0\n",
       "county_name           91741\n",
       "driver_gender          5205\n",
       "driver_race            5202\n",
       "violation_raw          5202\n",
       "violation              5202\n",
       "search_conducted          0\n",
       "search_type           88434\n",
       "stop_outcome           5202\n",
       "is_arrested            5202\n",
       "stop_duration          5202\n",
       "drugs_related_stop        0\n",
       "district                  0\n",
       "dtype: int64"
      ]
     },
     "execution_count": 15,
     "metadata": {},
     "output_type": "execute_result"
    }
   ],
   "execution_count": 15
  },
  {
   "metadata": {
    "ExecuteTime": {
     "end_time": "2025-09-23T21:05:52.528214Z",
     "start_time": "2025-09-23T21:05:52.520261Z"
    }
   },
   "cell_type": "code",
   "source": [
    "print(police.shape)\n",
    "print(police.columns)"
   ],
   "id": "20988176afc90b72",
   "outputs": [
    {
     "name": "stdout",
     "output_type": "stream",
     "text": [
      "(91741, 15)\n",
      "Index(['state', 'stop_date', 'stop_time', 'county_name', 'driver_gender',\n",
      "       'driver_race', 'violation_raw', 'violation', 'search_conducted',\n",
      "       'search_type', 'stop_outcome', 'is_arrested', 'stop_duration',\n",
      "       'drugs_related_stop', 'district'],\n",
      "      dtype='object')\n"
     ]
    }
   ],
   "execution_count": 16
  },
  {
   "metadata": {
    "ExecuteTime": {
     "end_time": "2025-09-23T21:05:52.558059Z",
     "start_time": "2025-09-23T21:05:52.546345Z"
    }
   },
   "cell_type": "code",
   "source": "police.state.value_counts()",
   "id": "2382abf118198d2c",
   "outputs": [
    {
     "data": {
      "text/plain": [
       "state\n",
       "RI    91741\n",
       "Name: count, dtype: int64"
      ]
     },
     "execution_count": 17,
     "metadata": {},
     "output_type": "execute_result"
    }
   ],
   "execution_count": 17
  },
  {
   "metadata": {},
   "cell_type": "markdown",
   "source": [
    "## Dropping Unnecessary Columns\n",
    "\n",
    "Not every column in a dataset is useful for analysis. Keeping irrelevant or empty columns can add clutter and make it harder to focus on the meaningful data.\n",
    "\n",
    "In this step:\n",
    "\n",
    "- The **`county_name`** column will be dropped because it contains only missing values.\n",
    "- The **`state`** column will also be dropped since all traffic stops occurred in the same state (**Rhode Island**), making the column redundant.\n",
    "\n",
    "Removing these columns will simplify the dataset and keep the focus on information that adds value to the analysis.\n"
   ],
   "id": "ad2f6ba2bb552deb"
  },
  {
   "metadata": {
    "ExecuteTime": {
     "end_time": "2025-09-23T21:05:52.588875Z",
     "start_time": "2025-09-23T21:05:52.572093Z"
    }
   },
   "cell_type": "code",
   "source": [
    "police.drop(['state','county_name'], axis='columns', inplace=True)\n",
    "police.shape"
   ],
   "id": "6b1c5a3c43a73b00",
   "outputs": [
    {
     "data": {
      "text/plain": [
       "(91741, 13)"
      ]
     },
     "execution_count": 18,
     "metadata": {},
     "output_type": "execute_result"
    }
   ],
   "execution_count": 18
  },
  {
   "metadata": {
    "ExecuteTime": {
     "end_time": "2025-09-23T21:06:32.784286Z",
     "start_time": "2025-09-23T21:06:32.708863Z"
    }
   },
   "cell_type": "code",
   "source": "police.isnull().sum()",
   "id": "f8c814390f90f3e5",
   "outputs": [
    {
     "data": {
      "text/plain": [
       "stop_date                 0\n",
       "stop_time                 0\n",
       "driver_gender          5205\n",
       "driver_race            5202\n",
       "violation_raw          5202\n",
       "violation              5202\n",
       "search_conducted          0\n",
       "search_type           88434\n",
       "stop_outcome           5202\n",
       "is_arrested            5202\n",
       "stop_duration          5202\n",
       "drugs_related_stop        0\n",
       "district                  0\n",
       "dtype: int64"
      ]
     },
     "execution_count": 19,
     "metadata": {},
     "output_type": "execute_result"
    }
   ],
   "execution_count": 19
  },
  {
   "metadata": {},
   "cell_type": "markdown",
   "source": [
    "## Dropping Rows\n",
    "\n",
    "Sometimes, a dataset may have missing values in columns that are **critical for analysis**. If the number of missing rows is small, it is often better to remove them rather than risk skewing the results.\n",
    "\n",
    "In this step:\n",
    "\n",
    "- The **`driver_gender`** column is identified as essential for the analysis.\n",
    "- Only a small fraction of rows are missing values in this column.\n",
    "- Those rows will be **dropped** to ensure the dataset remains reliable and ready for gender-based analysis.\n",
    "\n",
    "This step helps maintain accuracy while keeping as much useful data as possible.\n"
   ],
   "id": "21b134eb65d9751b"
  },
  {
   "metadata": {
    "ExecuteTime": {
     "end_time": "2025-09-23T21:12:33.716545Z",
     "start_time": "2025-09-23T21:12:33.643005Z"
    }
   },
   "cell_type": "code",
   "source": [
    "police.dropna(subset=['driver_gender'], inplace=True)\n",
    "print(police.isnull().sum())\n",
    "print(police.shape)"
   ],
   "id": "1b34afef1434a973",
   "outputs": [
    {
     "name": "stdout",
     "output_type": "stream",
     "text": [
      "stop_date                 0\n",
      "stop_time                 0\n",
      "driver_gender             0\n",
      "driver_race               0\n",
      "violation_raw             0\n",
      "violation                 0\n",
      "search_conducted          0\n",
      "search_type           83229\n",
      "stop_outcome              0\n",
      "is_arrested               0\n",
      "stop_duration             0\n",
      "drugs_related_stop        0\n",
      "district                  0\n",
      "dtype: int64\n",
      "(86536, 13)\n"
     ]
    }
   ],
   "execution_count": 23
  },
  {
   "metadata": {},
   "cell_type": "code",
   "outputs": [],
   "execution_count": null,
   "source": "",
   "id": "42ebb66b9a24cbdf"
  }
 ],
 "metadata": {
  "kernelspec": {
   "display_name": "Python 3",
   "language": "python",
   "name": "python3"
  },
  "language_info": {
   "codemirror_mode": {
    "name": "ipython",
    "version": 2
   },
   "file_extension": ".py",
   "mimetype": "text/x-python",
   "name": "python",
   "nbconvert_exporter": "python",
   "pygments_lexer": "ipython2",
   "version": "2.7.6"
  }
 },
 "nbformat": 4,
 "nbformat_minor": 5
}
